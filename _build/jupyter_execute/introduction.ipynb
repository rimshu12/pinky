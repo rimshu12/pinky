{
 "cells": [
  {
   "cell_type": "markdown",
   "id": "a74eb75c-631e-4de5-9bb8-9d37713e2224",
   "metadata": {},
   "source": [
    "# Introduction"
   ]
  },
  {
   "cell_type": "markdown",
   "id": "7ae8bcb6-acd0-4786-9e07-c3dabd9df560",
   "metadata": {},
   "source": [
    "This jupyter book can help you understand more about mircobit compass and sunlight sensors.You can go through them all to develop your understanding of using the micro:bit’s sensors. This book include different codes and videos to help doing your micro:bit compass and sunlight sensors. \n",
    "\n",
    "Coding with the micro:bit encourages you to gain basic skills preparing you for today’s modern digital world. The BBC micro:bit integrates the code you write with the embedded hardware to create interesting projects, while teaching you how to control hardware through programming. This promotes an understanding within kids by demonstrating they have to program the hardware to respond to their code and input."
   ]
  },
  {
   "cell_type": "markdown",
   "id": "9feb8f6e-f2a9-4951-9671-da5951176f9e",
   "metadata": {},
   "source": [
    "# Micro:bit"
   ]
  },
  {
   "cell_type": "markdown",
   "id": "db7f75ae-0f3f-46f8-93fb-8f6fd75c5ef7",
   "metadata": {},
   "source": [
    "The BBC micro:bit is a pocket-sized computer that introduces you to how software and hardware work together. It has an LED light display, buttons, sensors and many input/output features that you can program and physically interact with. The latest micro:bit adds sound sensing and playback capabilities."
   ]
  },
  {
   "cell_type": "markdown",
   "id": "e92c95fb-d935-4a68-b9f8-a2607ce91902",
   "metadata": {},
   "source": [
    "# Sensors"
   ]
  },
  {
   "cell_type": "markdown",
   "id": "399b6104-eec7-49da-ac45-87f219fe265b",
   "metadata": {},
   "source": [
    "Building on your learning in the LEDs and buttons sets, these projects and videos will show you how to program your micro:bit to sense movement, light, temperature and magnetic fields."
   ]
  },
  {
   "cell_type": "markdown",
   "id": "64f2d30c-37e3-4689-970e-16bdaa94fc05",
   "metadata": {},
   "source": [
    " # What is Microbit compass "
   ]
  },
  {
   "cell_type": "markdown",
   "id": "d6d68cd0-068c-40f2-9946-9f9d6a8f4a16",
   "metadata": {},
   "source": [
    "micro:bit has a compass sensor called a magnetometer that measures magnetic fields. It can sense the Earth's magnetic field and so you can use it as a compass. The micro:bit measures the compass heading from 0 to 359 degrees with its magnetometer chip. Different numbers mean north, east, south, and west.\n",
    "\n",
    "The micro: bit display letters or arrows to show if it’s pointing North, South, East or West. the micro: bit takes a reading from the compass sensor and shows the device’s numerical compass bearing on the LED display output"
   ]
  },
  {
   "cell_type": "markdown",
   "id": "0ebc602c-d203-42f1-be7c-38003fff6158",
   "metadata": {},
   "source": [
    "# what is sunglight sensor"
   ]
  },
  {
   "cell_type": "markdown",
   "id": "20a2e8ca-781d-428e-91b9-a281e9af1a53",
   "metadata": {},
   "source": [
    "The micro:bit measures the light around it by using some of the LEDs on the LED screen. The first time you use it, this function will say 0 . After that, it will say the real light level. This is because the light sensor (the part that can find the light level) has to be turned on first. light level. Show a different picture, like a moon or star. "
   ]
  },
  {
   "cell_type": "code",
   "execution_count": null,
   "id": "64653994-f8d0-46c7-b2fb-39a434d474e6",
   "metadata": {},
   "outputs": [],
   "source": []
  }
 ],
 "metadata": {
  "kernelspec": {
   "display_name": "Python 3 (ipykernel)",
   "language": "python",
   "name": "python3"
  },
  "language_info": {
   "codemirror_mode": {
    "name": "ipython",
    "version": 3
   },
   "file_extension": ".py",
   "mimetype": "text/x-python",
   "name": "python",
   "nbconvert_exporter": "python",
   "pygments_lexer": "ipython3",
   "version": "3.10.2"
  }
 },
 "nbformat": 4,
 "nbformat_minor": 5
}