{
 "cells": [
  {
   "cell_type": "markdown",
   "id": "310ff822-7ea5-4eb5-bd57-283e26355214",
   "metadata": {},
   "source": [
    "# Conclusion "
   ]
  },
  {
   "cell_type": "markdown",
   "id": "8836eeca-3e6a-437f-b966-7b5d61fd533c",
   "metadata": {},
   "source": [
    "i have done the compass bearing and sunlight sensor. it is very interesting and creative to do it. i have search \n",
    "few websites for better understanding about python. i made this book for the beginners to expeience the compass \n",
    "bearing  with python.\n"
   ]
  },
  {
   "cell_type": "markdown",
   "id": "ce7d5699-1218-46b9-b8c3-79b084852dd3",
   "metadata": {},
   "source": [
    "```{admonition} try it now \n",
    "do experience it \n",
    "```"
   ]
  },
  {
   "cell_type": "code",
   "execution_count": null,
   "id": "889e2b0b-d626-46d8-b182-4831dc8d8d2b",
   "metadata": {},
   "outputs": [],
   "source": []
  }
 ],
 "metadata": {
  "kernelspec": {
   "display_name": "Python 3 (ipykernel)",
   "language": "python",
   "name": "python3"
  },
  "language_info": {
   "codemirror_mode": {
    "name": "ipython",
    "version": 3
   },
   "file_extension": ".py",
   "mimetype": "text/x-python",
   "name": "python",
   "nbconvert_exporter": "python",
   "pygments_lexer": "ipython3",
   "version": "3.10.2"
  }
 },
 "nbformat": 4,
 "nbformat_minor": 5
}