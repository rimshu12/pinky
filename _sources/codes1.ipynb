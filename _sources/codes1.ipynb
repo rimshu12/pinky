{
 "cells": [
  {
   "cell_type": "code",
   "execution_count": 1,
   "id": "c9502232-71a0-4408-972c-cf28a0a57d9a",
   "metadata": {},
   "outputs": [
    {
     "name": "stderr",
     "output_type": "stream",
     "text": [
      "C:\\Users\\rimsha\\AppData\\Local\\Programs\\Python\\Python310\\lib\\site-packages\\IPython\\core\\display.py:414: UserWarning: Consider using IPython.display.IFrame instead\n",
      "  warnings.warn(\"Consider using IPython.display.IFrame instead\")\n"
     ]
    },
    {
     "data": {
      "text/html": [
       "<iframe src=\"https://python.microbit.org/\" allow=\"usb;serial\"  width=800 height=500></iframe>"
      ],
      "text/plain": [
       "<IPython.core.display.HTML object>"
      ]
     },
     "execution_count": 1,
     "metadata": {},
     "output_type": "execute_result"
    }
   ],
   "source": [
    "from IPython import display\n",
    "display.HTML('<iframe src=\"https://python.microbit.org/\" allow=\"usb;serial\"  width=800 height=500></iframe>')"
   ]
  },
  {
   "cell_type": "code",
   "execution_count": null,
   "id": "4e92ca9b-44cb-409f-ad56-0b26af351f0b",
   "metadata": {},
   "outputs": [],
   "source": []
  },
  {
   "cell_type": "code",
   "execution_count": null,
   "id": "662cc95c-80a4-48f6-a2c2-a45df1341aa5",
   "metadata": {},
   "outputs": [],
   "source": []
  }
 ],
 "metadata": {
  "kernelspec": {
   "display_name": "Python 3 (ipykernel)",
   "language": "python",
   "name": "python3"
  },
  "language_info": {
   "codemirror_mode": {
    "name": "ipython",
    "version": 3
   },
   "file_extension": ".py",
   "mimetype": "text/x-python",
   "name": "python",
   "nbconvert_exporter": "python",
   "pygments_lexer": "ipython3",
   "version": "3.10.2"
  }
 },
 "nbformat": 4,
 "nbformat_minor": 5
}
