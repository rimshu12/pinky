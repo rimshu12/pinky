{
 "cells": [
  {
   "cell_type": "markdown",
   "id": "b973d0ed-ecf3-44da-af8a-e00bbad32141",
   "metadata": {},
   "source": [
    "# Microbit compass"
   ]
  },
  {
   "cell_type": "markdown",
   "id": "24cdff1a-2eba-40e7-a6e6-82cc4f79b13a",
   "metadata": {},
   "source": [
    "# How it work"
   ]
  },
  {
   "cell_type": "markdown",
   "id": "80fab4fe-db07-4ff4-9ea0-fa3b357fde3f",
   "metadata": {},
   "source": [
    "* Your micro:bit has a built-in compass sensor called a magnetometer. You can use it to measure the Earth’s magnetic field and use it as a compass.\n",
    "* When you press the button A input, the micro:bit takes a reading from the compass sensor and shows the device’s numerical compass bearing on the LED display output. Point the micro:bit North and you should see a reading of 0 degrees."
   ]
  },
  {
   "cell_type": "markdown",
   "id": "254060fd-3609-4876-910c-7955a7948f26",
   "metadata": {},
   "source": [
    "# what you need \n",
    "* micro:bit\n",
    "* python editor\n",
    "\n",
    "\n"
   ]
  },
  {
   "cell_type": "markdown",
   "id": "af45059d-ecb7-47c8-a587-691ab981e32a",
   "metadata": {},
   "source": [
    "# Video"
   ]
  },
  {
   "cell_type": "code",
   "execution_count": 1,
   "id": "d103060e-4232-4676-8249-50ff8b577ebe",
   "metadata": {
    "tags": [
     "remove-input"
    ]
   },
   "outputs": [
    {
     "data": {
      "image/jpeg": "[encoded data removed]",
      "text/html": [
       "\n",
       "        <iframe\n",
       "            width=\"800\"\n",
       "            height=\"300\"\n",
       "            src=\"https://www.youtube.com/embed/KTH2yp3r4-k\"\n",
       "            frameborder=\"0\"\n",
       "            allowfullscreen\n",
       "            \n",
       "        ></iframe>\n",
       "        "
      ],
      "text/plain": [
       "<IPython.lib.display.YouTubeVideo at 0x1daf0c5a2c0>"
      ]
     },
     "execution_count": 1,
     "metadata": {},
     "output_type": "execute_result"
    }
   ],
   "source": [
    "from IPython.display import YouTubeVideo\n",
    "\n",
    "YouTubeVideo('KTH2yp3r4-k', width=800, height=300)"
   ]
  },
  {
   "cell_type": "code",
   "execution_count": null,
   "id": "89a9770d-4e5c-49b8-9990-72c94f2ad667",
   "metadata": {},
   "outputs": [],
   "source": [
    "from ruamel.yaml import YAML\n",
    "\n",
    "config_document_1 = \"\"\"\n",
    "title                       : Interactive Learning platform for sensors # The title of the book\n",
    "logo                        : \"./compass image.png\"  # Path to the book logo\n",
    "\n",
    "\n",
    "\"\"\"\n",
    "\n",
    "# Save our _config.yml in the book path\n",
    "yaml = YAML()\n",
    "config_file = open('../ibsp/_config.yml', 'w')\n",
    "yaml.dump(yaml.load(config_document_1), config_file)"
   ]
  },
  {
   "cell_type": "markdown",
   "id": "46a801c2-7308-44ae-97ed-12459cc3efe1",
   "metadata": {},
   "source": [
    "# Image of microbit compass "
   ]
  },
  {
   "cell_type": "markdown",
   "id": "4f901a81-264f-469f-86db-c5033c458f0a",
   "metadata": {},
   "source": [
    "![alternative text]![](compass.jpeg)"
   ]
  },
  {
   "cell_type": "markdown",
   "id": "5c2f1e46-061f-48fe-937d-4e157593611e",
   "metadata": {},
   "source": [
    "# Codes "
   ]
  },
  {
   "cell_type": "markdown",
   "id": "53ea105c-e8f3-4986-afe8-967002cb1b5c",
   "metadata": {},
   "source": [
    "**these codes can be useful for compass sensor turorial**"
   ]
  },
  {
   "cell_type": "markdown",
   "id": "b36576ff-4d3a-4d08-b9e3-fa827f39fa8d",
   "metadata": {},
   "source": [
    "``` {toggle} click to view code\n",
    ":show:\n",
    "    def playSound(direction, prev_direction):\n",
    "        # please replace pass with your own logic\n",
    "        if direction != prev_direction:\n",
    "        speech.say(direction, speed=120, pitch=100, throat=100, mouth=200)\n",
    "``` "
   ]
  },
  {
   "cell_type": "markdown",
   "id": "f46f7662-6597-4e2c-9b95-b61f74a160e5",
   "metadata": {},
   "source": [
    "``` {toggle} click to view code\n",
    ":show:\n",
    "    def displayDirection(bearing, prev_direction):\n",
    "\n",
    "        if bearing < 45 or bearing > 315:\n",
    "        display.show('N')\n",
    "        direction = \"North\"\n",
    "    elif bearing < 315 and bearing > 225 :\n",
    "        display.show('W')\n",
    "        direction = \"West\"\n",
    "    elif bearing < 225 and bearing > 135:\n",
    "        display.show('S')\n",
    "        direction = \"South\"\n",
    "    elif bearing < 135 and bearing > 45:\n",
    "        display.show('E')\n",
    "        direction = \"East\"\n",
    "    else:\n",
    "        #current_bearing = 'X'\n",
    "        display.show('X')\n",
    "        direction = \"No Direction\"\n",
    "\n",
    "    playSound(direction, prev_direction)\n",
    "    return direction\n",
    " \n",
    "    def main():\n",
    "  \n",
    "        while True:\n",
    "            if not compass.is_calibrated():\n",
    "                compass.calibrate()\n",
    "                prev_direction = \"No Direction\"\n",
    "            else:\n",
    "            # add your logic here\n",
    "                sleep(100)\n",
    "            \n",
    "                if button_a.is_pressed() and button_b.is_pressed():\n",
    "                    compass.calibrate()\n",
    "                    prev_direction = \"No Direction\"\n",
    "            \n",
    "                bearing = compass.heading()\n",
    "                prev_direction = displayDirection(bearing, prev_direction)\n",
    " \n",
    "    if __name__ == \"__main__\":\n",
    "        main()\n",
    "```        \n"
   ]
  },
  {
   "cell_type": "markdown",
   "id": "39bbd9b3-ca50-4c29-b801-acc6ce03667c",
   "metadata": {},
   "source": [
    "```{note}\n",
    "try to do it by yourself\n",
    "```"
   ]
  },
  {
   "cell_type": "code",
   "execution_count": 1,
   "id": "d12ca16d-7eb9-4290-99de-dde719378bbe",
   "metadata": {
    "tags": []
   },
   "outputs": [
    {
     "data": {
      "text/html": [
       "<iframe src=\"https://jackbonk.github.io/editor/\" allow=\"usb;serial\"  width=800 height=500></iframe>"
      ],
      "text/plain": [
       "<IPython.core.display.HTML object>"
      ]
     },
     "execution_count": 1,
     "metadata": {},
     "output_type": "execute_result"
    }
   ],
   "source": [
    "from IPython import display\n",
    "import warnings\n",
    "warnings.filterwarnings('ignore')\n",
    "display.HTML('<iframe src=\"https://jackbonk.github.io/editor/\" allow=\"usb;serial\"  width=800 height=500></iframe>')"
   ]
  },
  {
   "cell_type": "markdown",
   "id": "bd9295bb-e91e-4d24-a15d-52a400f63306",
   "metadata": {},
   "source": [
    "# LINKS"
   ]
  },
  {
   "cell_type": "markdown",
   "id": "cc31ec09-289f-4a5a-a234-beb24b1a8244",
   "metadata": {},
   "source": [
    "<https://makecode.microbit.org/projects/compass>"
   ]
  },
  {
   "cell_type": "markdown",
   "id": "26335e23-594d-491d-b5c0-5936ac330716",
   "metadata": {},
   "source": [
    "<https://microbit.org/projects/make-it-code-it/compass-bearing/>"
   ]
  }
 ],
 "metadata": {
  "kernelspec": {
   "display_name": "Python 3 (ipykernel)",
   "language": "python",
   "name": "python3"
  },
  "language_info": {
   "codemirror_mode": {
    "name": "ipython",
    "version": 3
   },
   "file_extension": ".py",
   "mimetype": "text/x-python",
   "name": "python",
   "nbconvert_exporter": "python",
   "pygments_lexer": "ipython3",
   "version": "3.10.2"
  }
 },
 "nbformat": 4,
 "nbformat_minor": 5
}
