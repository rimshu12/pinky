{
 "cells": [
  {
   "cell_type": "markdown",
   "id": "13c28490-ddfd-45e3-98c1-deb711c82541",
   "metadata": {},
   "source": [
    "# Codes"
   ]
  },
  {
   "cell_type": "markdown",
   "id": "c29ba825-0822-4c6c-9eb7-4a054f86b8ef",
   "metadata": {},
   "source": [
    "<iframe\n",
    "    width=\"640\"\n",
    "    height=\"480\"\n",
    "    src=\"https://www.youtube.com/embed/UmX4kyB2wfg\"\n",
    "    frameborder=\"0\"\n",
    "    allow=\"autoplay; encrypted-media\"\n",
    "    allowfullscreen\n",
    ">\n",
    "</α2>\n",
    "\n"
   ]
  },
  {
   "cell_type": "markdown",
   "id": "9cbdb91c-fb57-4b11-b1b2-b2d0e8a19342",
   "metadata": {},
   "source": [
    "from microbit import *\n",
    "compass.calibrate()\n",
    "\n",
    "while True:\n",
    "    if button_a.was_pressed():\n",
    "        display.scroll(str(compass.heading()))"
   ]
  },
  {
   "cell_type": "code",
   "execution_count": 1,
   "id": "7e9201cc-234c-4af9-8666-c05af2a2ddd4",
   "metadata": {},
   "outputs": [
    {
     "name": "stderr",
     "output_type": "stream",
     "text": [
      "C:\\Users\\rimsha\\AppData\\Local\\Programs\\Python\\Python310\\lib\\site-packages\\IPython\\core\\display.py:414: UserWarning: Consider using IPython.display.IFrame instead\n",
      "  warnings.warn(\"Consider using IPython.display.IFrame instead\")\n"
     ]
    },
    {
     "data": {
      "text/html": [
       "<iframe src=\"https://jackbonk.github.io/editor/\" allow=\"usb;serial\"  width=800 height=500></iframe>"
      ],
      "text/plain": [
       "<IPython.core.display.HTML object>"
      ]
     },
     "execution_count": 1,
     "metadata": {},
     "output_type": "execute_result"
    }
   ],
   "source": [
    "from IPython import display\n",
    "display.HTML('<iframe src=\"https://jackbonk.github.io/editor/\" allow=\"usb;serial\"  width=800 height=500></iframe>')"
   ]
  },
  {
   "cell_type": "code",
   "execution_count": null,
   "id": "1291beb4-f2ac-4dfe-9ae0-5b2b0df409b8",
   "metadata": {},
   "outputs": [],
   "source": []
  }
 ],
 "metadata": {
  "kernelspec": {
   "display_name": "Python 3 (ipykernel)",
   "language": "python",
   "name": "python3"
  },
  "language_info": {
   "codemirror_mode": {
    "name": "ipython",
    "version": 3
   },
   "file_extension": ".py",
   "mimetype": "text/x-python",
   "name": "python",
   "nbconvert_exporter": "python",
   "pygments_lexer": "ipython3",
   "version": "3.10.2"
  }
 },
 "nbformat": 4,
 "nbformat_minor": 5
}
